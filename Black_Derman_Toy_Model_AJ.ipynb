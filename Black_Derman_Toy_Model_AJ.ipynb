{
 "cells": [
  {
   "cell_type": "code",
   "execution_count": 1,
   "metadata": {},
   "outputs": [],
   "source": [
    "import math\n",
    "\n",
    "def bdt_price(r0, u, d, p, n):\n",
    "    \"\"\"Calculates the price of a zero-coupon bond using the BDT model.\n",
    "    \n",
    "    Args:\n",
    "        r0 (float): the initial interest rate\n",
    "        u (float): the upward movement factor\n",
    "        d (float): the downward movement factor\n",
    "        p (float): the probability of an upward movement\n",
    "        n (int): the number of time periods\n",
    "    \n",
    "    Returns:\n",
    "        float: the price of the bond\n",
    "    \"\"\"\n",
    "    # Calculate the interest rates at each node\n",
    "    r = [[r0]]\n",
    "    for i in range(1, n+1):\n",
    "        row = []\n",
    "        for j in range(i+1):\n",
    "            if j == 0:\n",
    "                # First node in row\n",
    "                row.append(r[i-1][0] * d)\n",
    "            elif j == i:\n",
    "                # Last node in row\n",
    "                row.append(r[i-1][-1] * u)\n",
    "            else:\n",
    "                # Middle node\n",
    "                row.append(r[i-1][j-1] * d)\n",
    "        r.append(row)\n",
    "    \n",
    "    # Calculate the bond prices at each node\n",
    "    bond_prices = [[1000 / (1 + r[i][j])**i for j in range(i+1)] for i in range(n+1)]\n",
    "    \n",
    "    # Print the tree\n",
    "    print(\"BDT Tree:\")\n",
    "    for i in range(n+1):\n",
    "        for j in range(i+1):\n",
    "            print(f\"{bond_prices[i][j]:.2f}\", end=\" \")\n",
    "        print()\n",
    "    \n",
    "    # Calculate the present value of the bond\n",
    "    pv = 0\n",
    "    for i in range(n+1):\n",
    "        for j in range(i+1):\n",
    "            pv += bond_prices[i][j] * p**j * (1-p)**(i-j) * math.factorial(i) // (math.factorial(j) * math.factorial(i-j))\n",
    "    \n",
    "    return pv\n"
   ]
  },
  {
   "cell_type": "code",
   "execution_count": 2,
   "metadata": {},
   "outputs": [
    {
     "name": "stdout",
     "output_type": "stream",
     "text": [
      "BDT Tree:\n",
      "1000.00 \n",
      "956.94 947.87 \n",
      "923.67 923.67 889.16 \n",
      "898.16 898.16 898.16 824.25 \n",
      "\n",
      "The price of the zero-coupon bond is: $3751.00\n"
     ]
    }
   ],
   "source": [
    "# Example usage\n",
    "r0 = 0.05\n",
    "u = 1.1\n",
    "d = 0.9\n",
    "p = 0.5\n",
    "n = 3\n",
    "price = bdt_price(r0, u, d, p, n)\n",
    "print(f\"\\nThe price of the zero-coupon bond is: ${price:.2f}\")"
   ]
  },
  {
   "cell_type": "code",
   "execution_count": null,
   "metadata": {},
   "outputs": [],
   "source": []
  }
 ],
 "metadata": {
  "kernelspec": {
   "display_name": "Python 3",
   "language": "python",
   "name": "python3"
  },
  "language_info": {
   "codemirror_mode": {
    "name": "ipython",
    "version": 3
   },
   "file_extension": ".py",
   "mimetype": "text/x-python",
   "name": "python",
   "nbconvert_exporter": "python",
   "pygments_lexer": "ipython3",
   "version": "3.7.4"
  }
 },
 "nbformat": 4,
 "nbformat_minor": 2
}
