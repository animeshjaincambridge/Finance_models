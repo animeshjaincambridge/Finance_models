{
 "cells": [
  {
   "cell_type": "markdown",
   "metadata": {},
   "source": [
    "# Binomial Asset Pricing Model"
   ]
  },
  {
   "cell_type": "markdown",
   "metadata": {},
   "source": [
    "Binomial tree istreated as a netwrok of nodes (i,j), i: time step, j:number of ordered price outcomes (lowest - or bottom to highest)"
   ]
  },
  {
   "cell_type": "code",
   "execution_count": 1,
   "metadata": {},
   "outputs": [],
   "source": [
    "import numpy as np"
   ]
  },
  {
   "cell_type": "markdown",
   "metadata": {},
   "source": [
    "### Binomial Tree representation"
   ]
  },
  {
   "cell_type": "markdown",
   "metadata": {},
   "source": [
    "$S_o$: initial Stock Price\n",
    "\n",
    "$S_{i,j} = S_o u^j d^{i-j}$\n",
    "\n",
    "$C_{i,j}$: Contract price at node (i,j)\n",
    "\n",
    "$C_{N,j}$: Final Payoff"
   ]
  },
  {
   "cell_type": "markdown",
   "metadata": {},
   "source": [
    "Assuming European Call,\n",
    "$C_{N,j} = max(S_{N, j} - K ,0)$"
   ]
  },
  {
   "cell_type": "code",
   "execution_count": 2,
   "metadata": {},
   "outputs": [],
   "source": [
    "# Initial parameters:\n",
    "\n",
    "S0 = 100 #initial stock price\n",
    "K = 100  #Strike price\n",
    "T = 1    #Time to maturity in years\n",
    "r = 0.06 #annual risk-free rate\n",
    "N = 3    #No of time steps\n",
    "u = 1.1  #up-factor in binomial model\n",
    "d = 1/u  #ensure recombining tree\n",
    "opttype = 'C' #C or P"
   ]
  },
  {
   "cell_type": "markdown",
   "metadata": {},
   "source": [
    "## Binomial Tree - 1"
   ]
  },
  {
   "cell_type": "markdown",
   "metadata": {},
   "source": [
    "$q = \\frac{e^{rt} - d}{u - d}$"
   ]
  },
  {
   "cell_type": "markdown",
   "metadata": {},
   "source": [
    "$C_0 = e^{-rt} [q C_u + (1-q) C_d]$"
   ]
  },
  {
   "cell_type": "code",
   "execution_count": 3,
   "metadata": {},
   "outputs": [
    {
     "name": "stdout",
     "output_type": "stream",
     "text": [
      "[ 75.13148009  90.90909091 110.         133.1       ]\n"
     ]
    },
    {
     "data": {
      "text/plain": [
       "10.145735799928817"
      ]
     },
     "execution_count": 3,
     "metadata": {},
     "output_type": "execute_result"
    }
   ],
   "source": [
    "def bimonial_tree_1(K,T,S0, r, N, u, d, opttype = 'C'):\n",
    "    dt = T/N\n",
    "    q = (np.exp(r*dt) - d)/(u - d)\n",
    "    disc = np.exp(-r*dt)\n",
    "    \n",
    "    #initialize asset at time T (maturity)\n",
    "    S = np.zeros(N+1)\n",
    "    S[0] = S0 * d**N\n",
    "    for j in range(1, N+1):\n",
    "        S[j] = S[j-1]*u/d\n",
    "    print(S)    \n",
    "    #initialise derivative values at maturity\n",
    "    \n",
    "    C = np.zeros(N+1)\n",
    "    \n",
    "    for j in range(0,N+1):\n",
    "        C[j] = max(0, S[j] - K) \n",
    "        \n",
    "    #step backward through tree \n",
    "    for i in np.arange(N,0,-1):\n",
    "        for j in range(0,i):\n",
    "            C[j] = disc* (C[j+1]*q + C[j]*(1-q))\n",
    "      \n",
    "    return C[0]\n",
    "\n",
    "bimonial_tree_1(K,T,S0, r, N, u, d, opttype = 'C')"
   ]
  },
  {
   "cell_type": "code",
   "execution_count": 4,
   "metadata": {},
   "outputs": [
    {
     "name": "stdout",
     "output_type": "stream",
     "text": [
      "[ 75.13148009  90.90909091 110.         133.1       ]\n"
     ]
    },
    {
     "data": {
      "text/plain": [
       "10.145735799928817"
      ]
     },
     "execution_count": 4,
     "metadata": {},
     "output_type": "execute_result"
    }
   ],
   "source": [
    "bimonial_tree_1(K,T,S0, r, N, u, d, opttype = 'C')"
   ]
  },
  {
   "cell_type": "code",
   "execution_count": 5,
   "metadata": {},
   "outputs": [
    {
     "data": {
      "text/plain": [
       "10.145735799928826"
      ]
     },
     "execution_count": 5,
     "metadata": {},
     "output_type": "execute_result"
    }
   ],
   "source": [
    "def binomial_tree_fast(K,T,S0,r,u,d,opttype='C'):\n",
    "    dt = T/N\n",
    "    q = (np.exp(r*dt) - d)/(u-d)\n",
    "    disc = np.exp(-r*dt)\n",
    "    \n",
    "    #initialize asset at time T (maturity)\n",
    "    S = S0 * d**(np.arange(N,-1,-1)) * u**(np.arange(0,N+1))\n",
    "    \n",
    "    #initialise derivative values at maturity\n",
    "    C = np.maximum(0, S - K)\n",
    "    \n",
    "    #step backward through tree \n",
    "    for i in np.arange(N,0,-1):\n",
    "        C = disc*(C[1:i+1] * q + C[0:i]*(1-q))\n",
    "    \n",
    "    return C[0]\n",
    "    \n",
    "binomial_tree_fast(K,T,S0,r,u,d,opttype='C')"
   ]
  },
  {
   "cell_type": "code",
   "execution_count": null,
   "metadata": {},
   "outputs": [],
   "source": []
  }
 ],
 "metadata": {
  "kernelspec": {
   "display_name": "Python 3",
   "language": "python",
   "name": "python3"
  },
  "language_info": {
   "codemirror_mode": {
    "name": "ipython",
    "version": 3
   },
   "file_extension": ".py",
   "mimetype": "text/x-python",
   "name": "python",
   "nbconvert_exporter": "python",
   "pygments_lexer": "ipython3",
   "version": "3.7.4"
  }
 },
 "nbformat": 4,
 "nbformat_minor": 2
}
